{
  "nbformat": 4,
  "nbformat_minor": 0,
  "metadata": {
    "colab": {
      "provenance": [],
      "authorship_tag": "ABX9TyOsEnSi8J4AV8uxuypVE++5",
      "include_colab_link": true
    },
    "kernelspec": {
      "name": "python3",
      "display_name": "Python 3"
    },
    "language_info": {
      "name": "python"
    }
  },
  "cells": [
    {
      "cell_type": "markdown",
      "metadata": {
        "id": "view-in-github",
        "colab_type": "text"
      },
      "source": [
        "<a href=\"https://colab.research.google.com/github/trevorklegore/trevorklegore/blob/main/onerepmax.ipynb\" target=\"_parent\"><img src=\"https://colab.research.google.com/assets/colab-badge.svg\" alt=\"Open In Colab\"/></a>"
      ]
    },
    {
      "cell_type": "code",
      "source": [
        "# This program was designed to find the one rep max of an individuals bench squat or deadlift\n",
        "# Find the one rep max using Epley's Formula (1RM = W x (1 + reps/30\n",
        "\n",
        "def calculate_one_rep_max(weight, reps):\n",
        "    \"\"\"\n",
        "    Calculate the one-rep max using Epley's formula\n",
        "    :param weight: The weight lifted (in lbs or kg)\n",
        "    :param reps: The number of reps performed\n",
        "    :return: The calculated one-rep max\n",
        "    \"\"\"\n",
        "    if reps == 1:\n",
        "        return weight\n",
        "    else:\n",
        "        one_rep_max = weight * (1 + reps / 30)\n",
        "        return round(one_rep_max, 2)\n",
        "\n",
        "\n",
        "# Each day of the 3 week routine you will lift a percentage of your 1RM\n",
        "\n",
        "def generate_smolov_jr_routine(one_rep_max, lift):\n",
        "    \"\"\"\n",
        "    Generate a 3-week Smolov Jr. routine based on the calculated 1RM\n",
        "    :param one_rep_max: The one-rep max for the selected lift\n",
        "    :param lift: The lift (bench press, deadlift, or squat)\n",
        "    \"\"\"\n",
        "    percentages = {\n",
        "        \"Day 1\": 0.70,\n",
        "        \"Day 2\": 0.75,\n",
        "        \"Day 3\": 0.80,\n",
        "        \"Day 4\": 0.85\n",
        "    }\n",
        "\n",
        "    reps_sets = {\n",
        "        \"Day 1\": (6, 6),  # 6 sets of 6 reps\n",
        "        \"Day 2\": (7, 5),  # 7 sets of 5 reps\n",
        "        \"Day 3\": (8, 4),  # 8 sets of 4 reps\n",
        "        \"Day 4\": (10, 3)  # 10 sets of 3 reps\n",
        "    }\n",
        "\n",
        "    print(f\"\\nSmolov Jr. Routine for {lift.capitalize()} (1RM = {one_rep_max} lbs):\\n\")\n",
        "    for day, percentage in percentages.items():\n",
        "        sets, reps = reps_sets[day]\n",
        "        weight = round(one_rep_max * percentage, 2)\n",
        "        print(f\"{day}: {sets} sets of {reps} reps at {weight} lbs\")\n",
        "\n",
        "# Main Program\n",
        "if __name__ == \"__main__\":\n",
        "    print(\"Welcome to the One-Rep Max Calculator and Smolov Jr. Routine Generator!\\n\")\n",
        "\n",
        "    # Input lift type\n",
        "    lift = input(\"Enter the lift (bench press, deadlift, or squat): \").lower()\n",
        "\n",
        "    # Input weight and reps\n",
        "    weight = float(input(f\"Enter the weight you lifted for {lift}: \"))\n",
        "    reps = int(input(f\"Enter the number of reps you performed: \"))\n",
        "\n",
        "    # Calculate 1RM\n",
        "    one_rep_max = calculate_one_rep_max(weight, reps)\n",
        "    print(f\"\\nYour estimated 1RM for {lift} is: {one_rep_max} lbs\")\n",
        "\n",
        "    # Generate Smolov Jr. Routine\n",
        "    generate_smolov_jr_routine(one_rep_max, lift)\n"
      ],
      "metadata": {
        "colab": {
          "base_uri": "https://localhost:8080/"
        },
        "id": "uxv3xRBqjT1Z",
        "outputId": "19650fd9-a1a3-476f-dba4-583101875175"
      },
      "execution_count": 5,
      "outputs": [
        {
          "output_type": "stream",
          "name": "stdout",
          "text": [
            "Welcome to the One-Rep Max Calculator and Smolov Jr. Routine Generator!\n",
            "\n",
            "Enter the lift (bench press, deadlift, or squat): squat\n",
            "Enter the weight you lifted for squat: 500\n",
            "Enter the number of reps you performed: 9\n",
            "\n",
            "Your estimated 1RM for squat is: 650.0 lbs\n",
            "\n",
            "Smolov Jr. Routine for Squat (1RM = 650.0 lbs):\n",
            "\n",
            "Day 1: 6 sets of 6 reps at 455.0 lbs\n",
            "Day 2: 7 sets of 5 reps at 487.5 lbs\n",
            "Day 3: 8 sets of 4 reps at 520.0 lbs\n",
            "Day 4: 10 sets of 3 reps at 552.5 lbs\n"
          ]
        }
      ]
    }
  ]
}