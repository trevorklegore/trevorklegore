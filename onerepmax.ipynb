{
  "nbformat": 4,
  "nbformat_minor": 0,
  "metadata": {
    "colab": {
      "provenance": [],
      "authorship_tag": "ABX9TyOsEnSi8J4AV8uxuypVE++5",
      "include_colab_link": true
    },
    "kernelspec": {
      "name": "python3",
      "display_name": "Python 3"
    },
    "language_info": {
      "name": "python"
    }
  },
  "cells": [
    {
      "cell_type": "markdown",
      "metadata": {
        "id": "view-in-github",
        "colab_type": "text"
      },
      "source": [
        "<a href=\"https://colab.research.google.com/github/trevorklegore/trevorklegore/blob/main/onerepmax.ipynb\" target=\"_parent\"><img src=\"https://colab.research.google.com/assets/colab-badge.svg\" alt=\"Open In Colab\"/></a>"
      ]
    },
    {
      "cell_type": "code",
      "source": [
        "# This program was designed to find the one rep max of an individuals bench squat or deadlift\n",
        "# Find the one rep max using Epley's Formula (1RM = W x (1 + reps/30\n",
        "\n",
        "def calculate_one_rep_max(weight, reps):\n",
        "    \"\"\"\n",
        "    Calculate the one-rep max using Epley's formula\n",
        "    :param weight: The weight lifted (in lbs or kg)\n",
        "    :param reps: The number of reps performed\n",
        "    :return: The calculated one-rep max\n",
        "    \"\"\"\n",
        "    if reps == 1:\n",
        "        return weight\n",
        "    else:\n",
        "        one_rep_max = weight * (1 + reps / 30)\n",
        "        return round(one_rep_max, 2)\n",
        "\n",
        "\n",
        "# Each day of the 3 week routine you will lift a percentage of your 1RM\n",
        "\n",
        "def generate_smolov_jr_routine(one_rep_max, lift):\n",
        "    \"\"\"\n",
        "    Generate a 3-week Smolov Jr. routine based on the calculated 1RM\n",
        "    :param one_rep_max: The one-rep max for the selected lift\n",
        "    :param lift: The lift (bench press, deadlift, or squat)\n",
        "    \"\"\"\n",
        "    percentages = {\n",
        "        \"Day 1\": 0.70,\n",
        "        \"Day 2\": 0.75,\n",
        "        \"Day 3\": 0.80,\n",
        "        \"Day 4\": 0.85\n",
        "    }\n",
        "\n",
        "    reps_sets = {\n",
        "        \"Day 1\": (6, 6),  # 6 sets of 6 reps\n",
        "        \"Day 2\": (7, 5),  # 7 sets of 5 reps\n",
        "        \"Day 3\": (8, 4),  # 8 sets of 4 reps\n",
        "        \"Day 4\": (10, 3)  # 10 sets of 3 reps\n",
        "    }\n",
        "\n",
        "    print(f\"\\nSmolov Jr. Routine for {lift.capitalize()} (1RM = {one_rep_max} lbs):\\n\")\n",
        "    for day, percentage in percentages.items():\n",
        "        sets, reps = reps_sets[day]\n",
        "        weight = round(one_rep_max * percentage, 2)\n",
        "        print(f\"{day}: {sets} sets of {reps} reps at {weight} lbs\")\n",
        "\n",
        "# Main Program\n",
        "if __name__ == \"__main__\":\n",
        "    print(\"Welcome to the One-Rep Max Calculator and Smolov Jr. Routine Generator!\\n\")\n",
        "\n",
        "    # Input lift type\n",
        "    lift = input(\"Enter the lift (bench press, deadlift, or squat): \").lower()\n",
        "\n",
        "    # Input weight and reps\n",
        "    weight = float(input(f\"Enter the weight you lifted for {lift}: \"))\n",
        "    reps = int(input(f\"Enter the number of reps you performed: \"))\n",
        "\n",
        "    # Calculate 1RM\n",
        "    one_rep_max = calculate_one_rep_max(weight, reps)\n",
        "    print(f\"\\nYour estimated 1RM for {lift} is: {one_rep_max} lbs\")\n",
        "\n",
        "    # Generate Smolov Jr. Routine\n",
        "    generate_smolov_jr_routine(one_rep_max, lift)\n"
      ],
      "metadata": {
        "colab": {
          "base_uri": "https://localhost:8080/",
          "height": 110
        },
        "id": "uxv3xRBqjT1Z",
        "outputId": "56b10909-2823-450e-c2f7-067d2eb6e1a0"
      },
      "execution_count": 4,
      "outputs": [
        {
          "output_type": "error",
          "ename": "SyntaxError",
          "evalue": "invalid syntax (<ipython-input-4-483122cad510>, line 4)",
          "traceback": [
            "\u001b[0;36m  File \u001b[0;32m\"<ipython-input-4-483122cad510>\"\u001b[0;36m, line \u001b[0;32m4\u001b[0m\n\u001b[0;31m    git init\u001b[0m\n\u001b[0m        ^\u001b[0m\n\u001b[0;31mSyntaxError\u001b[0m\u001b[0;31m:\u001b[0m invalid syntax\n"
          ]
        }
      ]
    }
  ]
}